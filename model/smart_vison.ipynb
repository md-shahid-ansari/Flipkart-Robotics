{
  "cells": [
    {
      "cell_type": "code",
      "execution_count": 1,
      "metadata": {
        "id": "F85SiCggpiL0",
        "colab": {
          "base_uri": "https://localhost:8080/"
        },
        "outputId": "73b60fe1-d555-488b-bb22-f4fb7848f6a2"
      },
      "outputs": [
        {
          "output_type": "stream",
          "name": "stdout",
          "text": [
            "Collecting ultralytics\n",
            "  Downloading ultralytics-8.3.17-py3-none-any.whl.metadata (34 kB)\n",
            "Requirement already satisfied: torch in /usr/local/lib/python3.10/dist-packages (2.4.1+cu121)\n",
            "Requirement already satisfied: numpy>=1.23.0 in /usr/local/lib/python3.10/dist-packages (from ultralytics) (1.26.4)\n",
            "Requirement already satisfied: matplotlib>=3.3.0 in /usr/local/lib/python3.10/dist-packages (from ultralytics) (3.7.1)\n",
            "Requirement already satisfied: opencv-python>=4.6.0 in /usr/local/lib/python3.10/dist-packages (from ultralytics) (4.10.0.84)\n",
            "Requirement already satisfied: pillow>=7.1.2 in /usr/local/lib/python3.10/dist-packages (from ultralytics) (10.4.0)\n",
            "Requirement already satisfied: pyyaml>=5.3.1 in /usr/local/lib/python3.10/dist-packages (from ultralytics) (6.0.2)\n",
            "Requirement already satisfied: requests>=2.23.0 in /usr/local/lib/python3.10/dist-packages (from ultralytics) (2.32.3)\n",
            "Requirement already satisfied: scipy>=1.4.1 in /usr/local/lib/python3.10/dist-packages (from ultralytics) (1.13.1)\n",
            "Requirement already satisfied: torchvision>=0.9.0 in /usr/local/lib/python3.10/dist-packages (from ultralytics) (0.19.1+cu121)\n",
            "Requirement already satisfied: tqdm>=4.64.0 in /usr/local/lib/python3.10/dist-packages (from ultralytics) (4.66.5)\n",
            "Requirement already satisfied: psutil in /usr/local/lib/python3.10/dist-packages (from ultralytics) (5.9.5)\n",
            "Requirement already satisfied: py-cpuinfo in /usr/local/lib/python3.10/dist-packages (from ultralytics) (9.0.0)\n",
            "Requirement already satisfied: pandas>=1.1.4 in /usr/local/lib/python3.10/dist-packages (from ultralytics) (2.2.2)\n",
            "Requirement already satisfied: seaborn>=0.11.0 in /usr/local/lib/python3.10/dist-packages (from ultralytics) (0.13.2)\n",
            "Collecting ultralytics-thop>=2.0.0 (from ultralytics)\n",
            "  Downloading ultralytics_thop-2.0.9-py3-none-any.whl.metadata (9.3 kB)\n",
            "Requirement already satisfied: filelock in /usr/local/lib/python3.10/dist-packages (from torch) (3.16.1)\n",
            "Requirement already satisfied: typing-extensions>=4.8.0 in /usr/local/lib/python3.10/dist-packages (from torch) (4.12.2)\n",
            "Requirement already satisfied: sympy in /usr/local/lib/python3.10/dist-packages (from torch) (1.13.3)\n",
            "Requirement already satisfied: networkx in /usr/local/lib/python3.10/dist-packages (from torch) (3.4.1)\n",
            "Requirement already satisfied: jinja2 in /usr/local/lib/python3.10/dist-packages (from torch) (3.1.4)\n",
            "Requirement already satisfied: fsspec in /usr/local/lib/python3.10/dist-packages (from torch) (2024.6.1)\n",
            "Requirement already satisfied: contourpy>=1.0.1 in /usr/local/lib/python3.10/dist-packages (from matplotlib>=3.3.0->ultralytics) (1.3.0)\n",
            "Requirement already satisfied: cycler>=0.10 in /usr/local/lib/python3.10/dist-packages (from matplotlib>=3.3.0->ultralytics) (0.12.1)\n",
            "Requirement already satisfied: fonttools>=4.22.0 in /usr/local/lib/python3.10/dist-packages (from matplotlib>=3.3.0->ultralytics) (4.54.1)\n",
            "Requirement already satisfied: kiwisolver>=1.0.1 in /usr/local/lib/python3.10/dist-packages (from matplotlib>=3.3.0->ultralytics) (1.4.7)\n",
            "Requirement already satisfied: packaging>=20.0 in /usr/local/lib/python3.10/dist-packages (from matplotlib>=3.3.0->ultralytics) (24.1)\n",
            "Requirement already satisfied: pyparsing>=2.3.1 in /usr/local/lib/python3.10/dist-packages (from matplotlib>=3.3.0->ultralytics) (3.2.0)\n",
            "Requirement already satisfied: python-dateutil>=2.7 in /usr/local/lib/python3.10/dist-packages (from matplotlib>=3.3.0->ultralytics) (2.8.2)\n",
            "Requirement already satisfied: pytz>=2020.1 in /usr/local/lib/python3.10/dist-packages (from pandas>=1.1.4->ultralytics) (2024.2)\n",
            "Requirement already satisfied: tzdata>=2022.7 in /usr/local/lib/python3.10/dist-packages (from pandas>=1.1.4->ultralytics) (2024.2)\n",
            "Requirement already satisfied: charset-normalizer<4,>=2 in /usr/local/lib/python3.10/dist-packages (from requests>=2.23.0->ultralytics) (3.4.0)\n",
            "Requirement already satisfied: idna<4,>=2.5 in /usr/local/lib/python3.10/dist-packages (from requests>=2.23.0->ultralytics) (3.10)\n",
            "Requirement already satisfied: urllib3<3,>=1.21.1 in /usr/local/lib/python3.10/dist-packages (from requests>=2.23.0->ultralytics) (2.2.3)\n",
            "Requirement already satisfied: certifi>=2017.4.17 in /usr/local/lib/python3.10/dist-packages (from requests>=2.23.0->ultralytics) (2024.8.30)\n",
            "Requirement already satisfied: MarkupSafe>=2.0 in /usr/local/lib/python3.10/dist-packages (from jinja2->torch) (3.0.1)\n",
            "Requirement already satisfied: mpmath<1.4,>=1.1.0 in /usr/local/lib/python3.10/dist-packages (from sympy->torch) (1.3.0)\n",
            "Requirement already satisfied: six>=1.5 in /usr/local/lib/python3.10/dist-packages (from python-dateutil>=2.7->matplotlib>=3.3.0->ultralytics) (1.16.0)\n",
            "Downloading ultralytics-8.3.17-py3-none-any.whl (876 kB)\n",
            "\u001b[2K   \u001b[90m━━━━━━━━━━━━━━━━━━━━━━━━━━━━━━━━━━━━━━━━\u001b[0m \u001b[32m876.6/876.6 kB\u001b[0m \u001b[31m38.2 MB/s\u001b[0m eta \u001b[36m0:00:00\u001b[0m\n",
            "\u001b[?25hDownloading ultralytics_thop-2.0.9-py3-none-any.whl (26 kB)\n",
            "Installing collected packages: ultralytics-thop, ultralytics\n",
            "Successfully installed ultralytics-8.3.17 ultralytics-thop-2.0.9\n"
          ]
        }
      ],
      "source": [
        "pip install ultralytics torch\n"
      ]
    },
    {
      "cell_type": "code",
      "execution_count": 2,
      "metadata": {
        "id": "3XzLtbChm-4p",
        "colab": {
          "base_uri": "https://localhost:8080/"
        },
        "outputId": "845c202c-54f6-44fa-b57a-f10c9f2cd431"
      },
      "outputs": [
        {
          "output_type": "stream",
          "name": "stdout",
          "text": [
            "Creating new Ultralytics Settings v0.0.6 file ✅ \n",
            "View Ultralytics Settings with 'yolo settings' or at '/root/.config/Ultralytics/settings.json'\n",
            "Update Settings with 'yolo settings key=value', i.e. 'yolo settings runs_dir=path/to/dir'. For help see https://docs.ultralytics.com/quickstart/#ultralytics-settings.\n"
          ]
        }
      ],
      "source": [
        "import cv2\n",
        "import torch\n",
        "from ultralytics import YOLO\n",
        "import torch.nn as nn\n",
        "from torchvision import transforms, models\n",
        "from PIL import Image"
      ]
    },
    {
      "cell_type": "code",
      "source": [
        "# Loading the best model\n",
        "model = models.resnet18(weights='ResNet18_Weights.IMAGENET1K_V1')\n",
        "model.fc = nn.Linear(model.fc.in_features, 6) # 6 is no. of classes\n",
        "model.load_state_dict(torch.load('/content/drive/MyDrive/Robo/freshness_detection_model.pth'))  # Load the best saved model\n",
        "# Move model to device\n",
        "device = torch.device(\"cuda\" if torch.cuda.is_available() else \"cpu\")\n",
        "model = model.to(device)\n",
        "model.eval()  # Set the model to evaluation mode\n",
        "\n",
        "# Now you can use the model for inference on new images\n",
        "def predict_image(image):\n",
        "    image = image.to(device)\n",
        "    outputs = model(image)\n",
        "    _, predicted = torch.max(outputs, 1)\n",
        "    return predicted\n",
        "\n",
        "def load_image(image_path):\n",
        "    transform = transforms.Compose([\n",
        "        transforms.Resize((224, 224)),\n",
        "        transforms.ToTensor(),\n",
        "        transforms.Normalize(mean=[0.485, 0.456, 0.406], std=[0.229, 0.224, 0.225])\n",
        "    ])\n",
        "    image = Image.open(image_path)\n",
        "    image = transform(image).unsqueeze(0)  # Add batch dimension\n",
        "    return image\n",
        "\n",
        "classes = ['freshapples', 'freshbanana', 'freshorange', 'rottenapples', 'rottenbanana', 'rottenoranges']\n",
        "\n",
        "# Usage\n",
        "def check_freshness(front_image, back_image, name):\n",
        "  front_image = load_image(front_image)\n",
        "  back_image = load_image(back_image)\n",
        "  predicted_class1 = predict_image(front_image)\n",
        "  predicted_class2 = predict_image(back_image)\n",
        "\n",
        "  if 'fresh' in classes[int(predicted_class1)] and 'fresh' in classes[int(predicted_class2)]:\n",
        "    print(\"Result : Fresh\")\n",
        "    return name, \"fresh\"\n",
        "  else:\n",
        "    print(\"Result : Not Fresh\")\n",
        "    return name, \"not fresh\"\n"
      ],
      "metadata": {
        "id": "8mO6A97nKd4s"
      },
      "execution_count": 9,
      "outputs": []
    },
    {
      "cell_type": "code",
      "execution_count": 11,
      "metadata": {
        "id": "1UCfKCpopcEk"
      },
      "outputs": [],
      "source": [
        "\n",
        "# Load the YOLOv8 model (ensure the ultralytics package is installed)\n",
        "yolo = YOLO('/content/drive/MyDrive/Robo/yolov8n.pt')  # Using the smallest model, you can switch to a larger version if needed\n",
        "\n",
        "# Function to detect the fruit or vegetable and trigger freshness check\n",
        "def detect_fruit_or_vegetable(front_image_path, back_image_path, images):\n",
        "    # Detect objects in the front image\n",
        "    results = yolo(front_image_path, verbose=False)\n",
        "\n",
        "    # Extract the detected object's name (class label)\n",
        "    if len(results[0].boxes) > 0:\n",
        "        detected_item = yolo.names[int(results[0].boxes[0].cls)]\n",
        "\n",
        "        print(f\"Triggering freshness analysis for {detected_item} ...\")\n",
        "\n",
        "        # Call the freshness check function using front and back images\n",
        "        name, status = check_freshness(images['front'], images['back'], name = detected_item)\n",
        "        return name, status\n",
        "    else:\n",
        "        print(\"No item detected in the image.\")\n",
        "\n"
      ]
    },
    {
      "cell_type": "code",
      "source": [
        "# List of items with front and back image paths\n",
        "items = {\n",
        "    \"item3\": {\"front\": \"/content/drive/MyDrive/Robo/images/item3_front.jpg\", \"back\": \"/content/drive/MyDrive/Robo/images/item3_back.jpg\"},\n",
        "    # Add more items here\n",
        "}\n",
        "\n",
        "# Dictionary to store counts of (name, status)\n",
        "item_counts = {}\n",
        "\n",
        "# List to store the output in the format [\"Item\", \"Status\", \"Counts\"]\n",
        "output_list = [[\"Item\", \"Status\", \"Counts\"],]\n",
        "\n",
        "# Process each item\n",
        "for item_id, images in items.items():\n",
        "    print(f\"\\nProcessing {item_id}:\")\n",
        "\n",
        "    # Load the front and back images\n",
        "    front_image = cv2.imread(images[\"front\"])\n",
        "    back_image = cv2.imread(images[\"back\"])\n",
        "\n",
        "    name, status = detect_fruit_or_vegetable(front_image, back_image, images)\n",
        "    # Create a tuple of (name, status)\n",
        "    key = (name, status)\n",
        "\n",
        "    # Check if the combination exists in the dictionary\n",
        "    if key in item_counts:\n",
        "        # If exists, increment the count\n",
        "        item_counts[key] += 1\n",
        "    else:\n",
        "        # If not, add with an initial count of 1\n",
        "        item_counts[key] = 1\n",
        "\n",
        "    # Update the output list with the current item, status, and count\n",
        "    output_list.append([name, status, item_counts[key]])\n",
        "\n",
        "# Print the final output list\n",
        "print(\"\\nFinal Output:\")\n",
        "if len(output_list) > 1:\n",
        "    for item in output_list:\n",
        "        print(item)"
      ],
      "metadata": {
        "colab": {
          "base_uri": "https://localhost:8080/"
        },
        "id": "QbBkjmssP3iR",
        "outputId": "af0edd77-d96c-494e-967a-4be7ea81f412"
      },
      "execution_count": 12,
      "outputs": [
        {
          "output_type": "stream",
          "name": "stdout",
          "text": [
            "\n",
            "Processing item3:\n",
            "Triggering freshness analysis for apple ...\n",
            "Result : Fresh\n",
            "\n",
            "Final Output:\n",
            "['Item', 'Status', 'Counts']\n",
            "['apple', 'fresh', 1]\n"
          ]
        }
      ]
    }
  ],
  "metadata": {
    "colab": {
      "provenance": [],
      "gpuType": "V28"
    },
    "kernelspec": {
      "display_name": "Python 3",
      "name": "python3"
    },
    "language_info": {
      "name": "python"
    },
    "accelerator": "TPU"
  },
  "nbformat": 4,
  "nbformat_minor": 0
}